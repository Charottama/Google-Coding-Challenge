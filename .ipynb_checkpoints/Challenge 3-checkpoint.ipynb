{
 "cells": [
  {
   "cell_type": "code",
   "execution_count": null,
   "metadata": {},
   "outputs": [],
   "source": [
    "PROBLEM\n",
    "\n",
    "Avery has an array of N positive integers. The i-th integer of the array is Ai.\n",
    "\n",
    "A contiguous subarray is an m-countdown if it is of length m \n",
    "and contains the integers m,m−1,m−2,…,2,1 in that order. \n",
    "\n",
    "For example, [3, 2, 1] is a 3-⁠countdown. \n",
    "Can you help Avery count the number of K-countdowns in her array?\n",
    "\n",
    "Input\n",
    "The first line of the input gives the number of test cases, T. T test cases follow. \n",
    "Each test case begins with a line containing the integers N and K. \n",
    "The second line contains N integers. The i-⁠th integer is Ai.\n",
    "\n",
    "Output\n",
    "For each test case, output one line containing Case #x: y, where x is the test case \n",
    "number (starting from 1) and y is the number of K-countdowns in her array.\n",
    "\n",
    "Sample Input\n",
    "3\n",
    "12 3\n",
    "1 2 3 7 9 3 2 1 8 3 2 1\n",
    "4 2\n",
    "101 100 99 98\n",
    "9 6\n",
    "100 7 6 5 4 3 2 1 100\n",
    "\n",
    "Sample Output\n",
    "Case #1: 2\n",
    "Case #2: 0\n",
    "Case #3: 1"
   ]
  },
  {
   "cell_type": "code",
   "execution_count": 1,
   "metadata": {},
   "outputs": [],
   "source": [
    "random_list = [1, 4, 3, 2, 7, 9, 19, 4, 3, 2, 1]\n",
    "int = 3"
   ]
  },
  {
   "cell_type": "code",
   "execution_count": 2,
   "metadata": {},
   "outputs": [],
   "source": [
    "def countlist(random_list, int):\n",
    "    retlist = []\n",
    "    count = 1\n",
    "    # Avoid IndexError for  random_list[i+1]\n",
    "    for i in range(len(random_list) - 1):\n",
    "        # Check if the next number is consecutive\n",
    "        if random_list[i] == int:\n",
    "            y = 0\n",
    "            \n",
    "            for x in range(i, i+int):\n",
    "                if random_list[x] == int-y:\n",
    "                    retlist.append(random_list[x])\n",
    "                    y+=1\n",
    "                else:\n",
    "                    break\n",
    "                \n",
    "    #retlist.append(count)\n",
    "    return (retlist.count(1))"
   ]
  },
  {
   "cell_type": "code",
   "execution_count": 3,
   "metadata": {},
   "outputs": [
    {
     "name": "stdout",
     "output_type": "stream",
     "text": [
      "1\n"
     ]
    }
   ],
   "source": [
    "print(countlist(random_list, int))"
   ]
  },
  {
   "cell_type": "code",
   "execution_count": 6,
   "metadata": {},
   "outputs": [],
   "source": [
    "def solution(random_list, int):\n",
    "    answer_counter = 0\n",
    "    decreasing_counter = 0\n",
    "    \n",
    "    for i in range(1, len(random_list)):\n",
    "        if random_list[i] == random_list[i-1]-1:\n",
    "            decreasing_counter += 1\n",
    "        else:\n",
    "            decreasing_counter = 0\n",
    "            \n",
    "        if random_list[i] == 1 and decreasing_counter >= int-1:\n",
    "            answer_counter += 1\n",
    "            \n",
    "    return (answer_counter)"
   ]
  },
  {
   "cell_type": "code",
   "execution_count": 7,
   "metadata": {},
   "outputs": [
    {
     "name": "stdout",
     "output_type": "stream",
     "text": [
      "1\n"
     ]
    }
   ],
   "source": [
    "print(solution(random_list, int))"
   ]
  },
  {
   "cell_type": "code",
   "execution_count": null,
   "metadata": {},
   "outputs": [],
   "source": []
  },
  {
   "cell_type": "code",
   "execution_count": null,
   "metadata": {},
   "outputs": [],
   "source": [
    "PROBLEM\n",
    "\n",
    "For example, if S is BBRB, the infinite sequence Pari builds would be BBRBBBRBBBRB...\n",
    "Blue is Pari's favorite color, so she wants to know the number of blue bulbs between \n",
    "the Ith bulb and Jth bulb, inclusive, in the infinite sequence she built (lights are \n",
    "numbered with consecutive integers starting from 1). In the sequence above, the \n",
    "indices would be numbered as follows:\n",
    "    \n",
    "B  B  R  B  B  B  R  B  B  B  R  B...\n",
    "1  2  3  4  5  6  7  8  9  10 11 12\n",
    "\n",
    "So, for example, there are 4 blue lights between the 4th and 8th positions, but only 2 between the 10th and 12th.\n",
    "Since the sequence can be very long, she wrote a program to do the count for her. Can you do the same?\n",
    "\n",
    "Input\n",
    "The first line of the input gives the number of test cases, T. T test cases follow.\n",
    "First line of each test case consists of a string S, denoting the initial finite pattern.\n",
    "Second line of each test case consists of two space separated integers I and J, defined above.\n",
    "\n",
    "Output\n",
    "For each test case, output one line containing Case #x: y, where x is the test \n",
    "case number (starting from 1) and y is number of blue bulbs between the Ith bulb \n",
    "and Jth bulb of Pari's infinite sequence, inclusive.\n",
    "\n",
    "Sample Input\n",
    "3\n",
    "BBRB\n",
    "4 8\n",
    "BBRB\n",
    "10 12\n",
    "BR\n",
    "1 1000000\n",
    "\n",
    "Sample Output\n",
    "Case #1: 4\n",
    "Case #2: 2\n",
    "Case #3: 500000"
   ]
  },
  {
   "cell_type": "code",
   "execution_count": 12,
   "metadata": {},
   "outputs": [],
   "source": [
    "def diwali(string, index):\n",
    "    if index[1]+1 > len(string):\n",
    "        string = string * (-(-index[1]//len(string))+1)\n",
    "\n",
    "    new_string = (string[(index[0]):(index[1])+1])\n",
    "    #print(new_string)\n",
    "    return(''.join(new_string).count('B'))"
   ]
  },
  {
   "cell_type": "code",
   "execution_count": 13,
   "metadata": {},
   "outputs": [
    {
     "name": "stdout",
     "output_type": "stream",
     "text": [
      "500000\n"
     ]
    }
   ],
   "source": [
    "string = 'BR'\n",
    "index = [1, 1000000]\n",
    "print (diwali(string, index))"
   ]
  },
  {
   "cell_type": "code",
   "execution_count": 10,
   "metadata": {},
   "outputs": [],
   "source": [
    "def solution2(string, index):\n",
    "    counter = 0\n",
    "    if index[1]+1 > len(string):\n",
    "        string = string * (-(-index[1]//len(string))+1)\n",
    "    \n",
    "    for i in range(index[0], index[1]+1):\n",
    "        if string[i] == 'B':\n",
    "            counter += 1\n",
    "    return counter"
   ]
  },
  {
   "cell_type": "code",
   "execution_count": 11,
   "metadata": {},
   "outputs": [
    {
     "name": "stdout",
     "output_type": "stream",
     "text": [
      "500000\n"
     ]
    }
   ],
   "source": [
    "string = 'BR'\n",
    "index = [1, 1000000]\n",
    "print (solution2(string, index))"
   ]
  },
  {
   "cell_type": "code",
   "execution_count": null,
   "metadata": {},
   "outputs": [],
   "source": [
    "def boundedRatio(a, l, r):\n",
    "    numbers = []\n",
    "    output = []\n",
    "    \n",
    "    for n in range(l, r+1):\n",
    "        numbers.append(n)\n",
    "    \n",
    "    for i in range (1, len(a)+1):\n",
    "        if any(a[i-1] / i == n for n in numbers):\n",
    "            output.append(True)\n",
    "        else:\n",
    "            output.append(False)\n",
    "            \n",
    "    return (output)\n",
    "        \n",
    "\n",
    "a = [8, 5, 6, 16, 5]\n",
    "l = 1\n",
    "r = 3\n",
    "boundedRatio(a, l, r)"
   ]
  },
  {
   "cell_type": "code",
   "execution_count": null,
   "metadata": {},
   "outputs": [],
   "source": [
    "def alternatingSort(a):\n",
    "    b = []\n",
    "    b.append(a[0])\n",
    "    for i in range(1, -(-len(a)//2)+1):\n",
    "        b.append(a[-i])\n",
    "        if i == -(-len(a)//2):\n",
    "            break\n",
    "        else:\n",
    "            b.append(a[i])\n",
    "        \n",
    "    return (sorted (b) == b)\n",
    "    \n",
    "    \n",
    "a = [-92, -23, 0, 45, 89, 96, 99, 95, 89, 41, -17, -48]\n",
    "alternatingSort(a)"
   ]
  }
 ],
 "metadata": {
  "kernelspec": {
   "display_name": "Python 3",
   "language": "python",
   "name": "python3"
  },
  "language_info": {
   "codemirror_mode": {
    "name": "ipython",
    "version": 3
   },
   "file_extension": ".py",
   "mimetype": "text/x-python",
   "name": "python",
   "nbconvert_exporter": "python",
   "pygments_lexer": "ipython3",
   "version": "3.8.3"
  }
 },
 "nbformat": 4,
 "nbformat_minor": 4
}
