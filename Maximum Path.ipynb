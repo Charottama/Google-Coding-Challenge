{
 "cells": [
  {
   "cell_type": "code",
   "execution_count": 1,
   "metadata": {},
   "outputs": [],
   "source": [
    "import numpy as np"
   ]
  },
  {
   "cell_type": "code",
   "execution_count": 6,
   "metadata": {},
   "outputs": [],
   "source": [
    "def fill_lower_diag(node_values):\n",
    "    n = int(np.sqrt(len(node_values)*2))+1\n",
    "    mask = np.tri(n,dtype=bool, k=-1) # or np.arange(n)[:,None] > np.arange(n)\n",
    "    tri = np.zeros((n,n),dtype=int)\n",
    "    tri[mask] = node_values\n",
    "    return tri"
   ]
  },
  {
   "cell_type": "code",
   "execution_count": 7,
   "metadata": {},
   "outputs": [],
   "source": [
    "def maxPathSum(node_values):\n",
    "    \n",
    "    tri = fill_lower_diag(node_values)\n",
    "    \n",
    "    m = len(tri)-1\n",
    " \n",
    "    # loop for bottom-up calculation\n",
    "    for i in range(m-1, -1, -1):\n",
    "        for j in range(i+1):\n",
    " \n",
    "            # for each element, check both\n",
    "            # elements just below the number\n",
    "            # and below right to the number\n",
    "            # add the maximum of them to it\n",
    "            if (tri[i+1][j] > tri[i+1][j+1]):\n",
    "                tri[i][j] += tri[i+1][j]\n",
    "            else:\n",
    "                tri[i][j] += tri[i+1][j+1]\n",
    " \n",
    "    # return the top element\n",
    "    # which stores the maximum sum\n",
    "    return tri[0][0]"
   ]
  },
  {
   "cell_type": "code",
   "execution_count": 8,
   "metadata": {},
   "outputs": [
    {
     "data": {
      "text/plain": [
       "7"
      ]
     },
     "execution_count": 8,
     "metadata": {},
     "output_type": "execute_result"
    }
   ],
   "source": [
    "node_values = [1, 3, -1, 3, 1, 5]\n",
    "maxPathSum(node_values)"
   ]
  },
  {
   "cell_type": "code",
   "execution_count": 1,
   "metadata": {},
   "outputs": [],
   "source": [
    "import pandas as pd\n",
    "import numpy as np"
   ]
  },
  {
   "cell_type": "code",
   "execution_count": 2,
   "metadata": {},
   "outputs": [],
   "source": [
    "def calcMissingPolynomial(readings):\n",
    "    results = []\n",
    "    readings = pd.DataFrame(readings)\n",
    "    readings.columns = ['date', 'time', 'temperature']\n",
    "    readings.temperature = pd.to_numeric(readings.temperature, errors='coerce')\n",
    "    \n",
    "    del readings['date']\n",
    "    del readings['time']\n",
    "    \n",
    "    missingidxlist = readings.loc[pd.isna(readings['temperature']), :].index\n",
    "    readings.interpolate(method = 'polynomial', order = 2, limit_direction = 'both', inplace = True)\n",
    "    \n",
    "    for i in missingidxlist:\n",
    "        results.append(readings.at[i, 'temperature'])\n",
    "        \n",
    "    return (results)"
   ]
  },
  {
   "cell_type": "code",
   "execution_count": 3,
   "metadata": {},
   "outputs": [
    {
     "name": "stdout",
     "output_type": "stream",
     "text": [
      "5\n",
      "12/14/2012 16:00:00 Missing_19\n",
      "12/17/2012 16:00:00 27.215\n",
      "12/18/2012 16:00:00 27.63\n",
      "12/19/2012 16:00:00 27.73\n",
      "12/20/2012 16:00:00 Missing_20\n"
     ]
    }
   ],
   "source": [
    "n = int(input())\n",
    "readings = []\n",
    "for _ in range (n):\n",
    "    readings.append(input().split())"
   ]
  },
  {
   "cell_type": "code",
   "execution_count": 4,
   "metadata": {},
   "outputs": [
    {
     "data": {
      "text/plain": [
       "[nan, nan]"
      ]
     },
     "execution_count": 4,
     "metadata": {},
     "output_type": "execute_result"
    }
   ],
   "source": [
    "calcMissingPolynomial(readings)"
   ]
  },
  {
   "cell_type": "code",
   "execution_count": 11,
   "metadata": {},
   "outputs": [],
   "source": [
    "def calcMissingTime(readings):\n",
    "    results = []\n",
    "    readings = pd.DataFrame(readings)\n",
    "    readings.columns = ['date', 'time', 'temperature']\n",
    "    readings['datetime'] = pd.to_datetime(readings.date + ' ' + readings.time)\n",
    "    readings = readings.set_index('datetime')\n",
    "    readings.temperature = pd.to_numeric(readings.temperature, errors = 'coerce')\n",
    "    \n",
    "    missingidxlist = readings.loc[pd.isna(readings['temperature']), :].index\n",
    "    readings.interpolate(method = 'time', limit_direction = 'both', inplace = True)\n",
    "    \n",
    "    for i in missingidxlist:\n",
    "        results.append(readings.at[i, 'temperature'])\n",
    "        \n",
    "    return (results)"
   ]
  },
  {
   "cell_type": "code",
   "execution_count": 12,
   "metadata": {},
   "outputs": [
    {
     "data": {
      "text/plain": [
       "[27.215, 27.73]"
      ]
     },
     "execution_count": 12,
     "metadata": {},
     "output_type": "execute_result"
    }
   ],
   "source": [
    "calcMissingTime(readings)"
   ]
  }
 ],
 "metadata": {
  "kernelspec": {
   "display_name": "Python 3",
   "language": "python",
   "name": "python3"
  },
  "language_info": {
   "codemirror_mode": {
    "name": "ipython",
    "version": 3
   },
   "file_extension": ".py",
   "mimetype": "text/x-python",
   "name": "python",
   "nbconvert_exporter": "python",
   "pygments_lexer": "ipython3",
   "version": "3.8.3"
  }
 },
 "nbformat": 4,
 "nbformat_minor": 4
}
